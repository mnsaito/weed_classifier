{
 "cells": [
  {
   "cell_type": "code",
   "execution_count": 1,
   "metadata": {},
   "outputs": [],
   "source": [
    "# Standard Imports\n",
    "import numpy as np\n",
    "import random\n",
    "import os\n",
    "import shutil\n",
    "import pathlib"
   ]
  },
  {
   "cell_type": "code",
   "execution_count": 2,
   "metadata": {},
   "outputs": [
    {
     "name": "stdout",
     "output_type": "stream",
     "text": [
      "Number of perennials to transfer to test: 281\n",
      "Number of weeds to transfer to test: 299\n"
     ]
    }
   ],
   "source": [
    "data_path = os.path.join(os.pardir, os.pardir, 'data')\n",
    "perennial_path = os.path.join(data_path, 'perennials')\n",
    "weed_path = os.path.join(data_path, 'weeds')\n",
    "test_path = os.path.join(data_path, 'test')\n",
    "train_path = os.path.join(data_path, 'train')\n",
    "perennial_no = len(os.listdir(perennial_path))\n",
    "weed_no = len(os.listdir(weed_path))\n",
    "test_perennial = round(perennial_no * 0.1)\n",
    "test_weed = round(weed_no * 0.1)\n",
    "print('Number of perennials to transfer to test:', test_perennial)\n",
    "print('Number of weeds to transfer to test:', test_weed)"
   ]
  },
  {
   "cell_type": "code",
   "execution_count": 3,
   "metadata": {},
   "outputs": [],
   "source": [
    "# Create new directories for test data\n",
    "pathlib.Path(os.path.join(test_path, 'perennials')).mkdir(parents=True, exist_ok=True)\n",
    "pathlib.Path(os.path.join(test_path, 'weeds')).mkdir(parents=True, exist_ok=True)\n",
    "\n",
    "# Create new directories for train data\n",
    "pathlib.Path(os.path.join(train_path, 'perennials')).mkdir(parents=True, exist_ok=True)\n",
    "pathlib.Path(os.path.join(train_path, 'weeds')).mkdir(parents=True, exist_ok=True)"
   ]
  },
  {
   "cell_type": "code",
   "execution_count": 4,
   "metadata": {},
   "outputs": [],
   "source": [
    "# Randomly transfer 10% of images into test directory\n",
    "for i in range(test_perennial):\n",
    "    file = random.choice(os.listdir(perennial_path))\n",
    "    dest_path = os.path.join(test_path, 'perennials', file)\n",
    "    shutil.move(os.path.join(perennial_path, file), dest_path)\n",
    "for i in range(test_weed):\n",
    "    file = random.choice(os.listdir(weed_path))\n",
    "    dest_path = os.path.join(test_path, 'weeds', file)\n",
    "    shutil.move(os.path.join(weed_path, file), dest_path)"
   ]
  },
  {
   "cell_type": "code",
   "execution_count": 5,
   "metadata": {},
   "outputs": [
    {
     "name": "stdout",
     "output_type": "stream",
     "text": [
      "Number of perennials in test dataset: 281\n",
      "Number of weeds in test dataset: 299\n"
     ]
    }
   ],
   "source": [
    "# Confirm proper number of files were transferred to test data\n",
    "print('Number of perennials in test dataset:', len(os.listdir(os.path.join(test_path, 'perennials'))))\n",
    "print('Number of weeds in test dataset:', len(os.listdir(os.path.join(test_path, 'weeds'))))"
   ]
  },
  {
   "cell_type": "code",
   "execution_count": 6,
   "metadata": {},
   "outputs": [],
   "source": [
    "# Transfer remaining perennials into train dataset\n",
    "file_names = os.listdir(perennial_path)\n",
    "for file_name in file_names:\n",
    "    shutil.move(os.path.join(perennial_path, file_name), os.path.join(train_path, 'perennials'))"
   ]
  },
  {
   "cell_type": "code",
   "execution_count": 7,
   "metadata": {},
   "outputs": [],
   "source": [
    "# Transfer remaining weeds into test dataset\n",
    "file_names = os.listdir(weed_path)\n",
    "for file_name in file_names:\n",
    "    shutil.move(os.path.join(weed_path, file_name), os.path.join(train_path, 'weeds'))"
   ]
  },
  {
   "cell_type": "code",
   "execution_count": 8,
   "metadata": {},
   "outputs": [
    {
     "name": "stdout",
     "output_type": "stream",
     "text": [
      "Number of perennials in train dataset: 2531\n",
      "Number of weeds in train dataset: 2691\n"
     ]
    }
   ],
   "source": [
    "# Confirm proper number of files were transferred to test data\n",
    "print('Number of perennials in train dataset:', len(os.listdir(os.path.join(train_path, 'perennials'))))\n",
    "print('Number of weeds in train dataset:', len(os.listdir(os.path.join(train_path, 'weeds'))))"
   ]
  },
  {
   "cell_type": "code",
   "execution_count": 10,
   "metadata": {},
   "outputs": [],
   "source": [
    "pathlib.Path(perennial_path).rmdir()\n",
    "pathlib.Path(weed_path).rmdir()"
   ]
  },
  {
   "cell_type": "code",
   "execution_count": null,
   "metadata": {},
   "outputs": [],
   "source": []
  }
 ],
 "metadata": {
  "kernelspec": {
   "display_name": "Python 3",
   "language": "python",
   "name": "python3"
  },
  "language_info": {
   "codemirror_mode": {
    "name": "ipython",
    "version": 3
   },
   "file_extension": ".py",
   "mimetype": "text/x-python",
   "name": "python",
   "nbconvert_exporter": "python",
   "pygments_lexer": "ipython3",
   "version": "3.8.5"
  }
 },
 "nbformat": 4,
 "nbformat_minor": 4
}
