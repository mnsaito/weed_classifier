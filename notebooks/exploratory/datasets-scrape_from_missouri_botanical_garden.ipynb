{
 "cells": [
  {
   "cell_type": "markdown",
   "metadata": {},
   "source": [
    "# Create Datasets\n",
    "## Add photos from Missouri Botanical Gardens\n",
    "- When I created the code below, I thought that the Missouri Botanical Gardens included photos of perennials and weeds.  After scraping the photos of the perennials, I realized that it did not include photos of weeds, but referred to the University of Massachusetts Amherst for all weed photos.\n",
    "- The code for scraping weed photos from the University of Massachusetts Amherst is included in a separate notebook"
   ]
  },
  {
   "cell_type": "code",
   "execution_count": 1,
   "metadata": {},
   "outputs": [],
   "source": [
    "# standard imports\n",
    "import numpy as np\n",
    "import pandas as pd\n",
    "import os\n",
    "\n",
    "# webscrape\n",
    "import requests\n",
    "from bs4 import BeautifulSoup\n",
    "from time import sleep"
   ]
  },
  {
   "cell_type": "code",
   "execution_count": 2,
   "metadata": {},
   "outputs": [],
   "source": [
    "# Paths to store data\n",
    "perennial_path = os.path.join(os.pardir, os.pardir, 'data', 'perennials')\n",
    "weed_path = os.path.join(os.pardir, os.pardir, 'data', 'weeds')"
   ]
  },
  {
   "cell_type": "code",
   "execution_count": 69,
   "metadata": {},
   "outputs": [],
   "source": [
    "# Scrape names of best performing perennials from Midwest Gardening site\n",
    "perennial_url = 'https://www.midwestgardentips.com/best-performing-perennials-1'\n",
    "response = requests.get(perennial_url)\n",
    "html = response.text\n",
    "soup = BeautifulSoup(html, 'lxml')\n",
    "\n",
    "# Find bolded (i.e., 'strong') and italicized (i.e., 'em') text\n",
    "p_list = [a.text for a in (strong.find('em') for strong in soup.find_all('strong')) if a]\n",
    "\n",
    "perennials = []\n",
    "for i in range(len(p_list)):\n",
    "    text = p_list[i].split(':')[0]\n",
    "    perennials.append(text)\n",
    "\n",
    "# Remove mislabeled text from list of perennials\n",
    "perennials.remove('y.')\n",
    "perennials.remove('Full to part sun\\xa0 Hardy in zones ')"
   ]
  },
  {
   "cell_type": "code",
   "execution_count": 70,
   "metadata": {},
   "outputs": [
    {
     "data": {
      "text/plain": [
       "['Adnophora Liliifolia',\n",
       " 'Agastache',\n",
       " 'Asiatic lily (also Oriental lily)',\n",
       " 'Aster (hardy)',\n",
       " 'Astilbe',\n",
       " 'Azalea, deciduous',\n",
       " 'Balloon Flower',\n",
       " 'Bee Balm',\n",
       " 'Bellflower',\n",
       " 'Black-Eyed Susan',\n",
       " 'Bleeding Heart',\n",
       " 'Centaurea (Perennial Cornflower)',\n",
       " 'Clematis',\n",
       " 'Chrysanthemum',\n",
       " 'Columbine',\n",
       " 'Coneflower',\n",
       " 'Coral Bells',\n",
       " 'Coreopsis',\n",
       " 'Daylilies',\n",
       " 'Delphinium',\n",
       " 'Ferns',\n",
       " 'Gaillardia (blanket flower)',\n",
       " 'Geranium, hardy',\n",
       " 'Hosta',\n",
       " 'Iris',\n",
       " 'Lady’s Mantle',\n",
       " 'Lavender',\n",
       " 'Lily of the Valley',\n",
       " 'Lungwort',\n",
       " 'Mallow',\n",
       " 'Nepeta',\n",
       " 'Penstemon',\n",
       " 'Peonies',\n",
       " 'Phlox paniculata hybrids',\n",
       " 'Phlox subulata',\n",
       " 'Pinks',\n",
       " 'Poppies',\n",
       " 'Rudbeckia',\n",
       " 'Russian Sage',\n",
       " 'Salvia',\n",
       " 'Sedum',\n",
       " 'Spotted Dead Nettle, or Lamium',\n",
       " 'Veronica (Speedwell)',\n",
       " 'Yarrow']"
      ]
     },
     "execution_count": 70,
     "metadata": {},
     "output_type": "execute_result"
    }
   ],
   "source": [
    "perennials"
   ]
  },
  {
   "cell_type": "code",
   "execution_count": 71,
   "metadata": {},
   "outputs": [],
   "source": [
    "# Create list of weeds and\n",
    "# Scrape weed photos from preen site\n",
    "\n",
    "weed_url = 'https://www.preen.com/weeds/il'\n",
    "response = requests.get(weed_url)\n",
    "html = response.text\n",
    "soup = BeautifulSoup(html, 'lxml')\n",
    "div = soup.find(id = 'WeedList')\n",
    "w_list = div.find_all('a')\n",
    "weeds = []\n",
    "for i in range(len(w_list)):\n",
    "    # Create list of weed names\n",
    "    text = w_list[i].find('img').attrs['alt']  \n",
    "    weeds.append(text)"
   ]
  },
  {
   "cell_type": "code",
   "execution_count": 72,
   "metadata": {},
   "outputs": [
    {
     "data": {
      "text/plain": [
       "['annual bluegrass',\n",
       " 'annual ryegrass',\n",
       " 'barnyardgrass',\n",
       " 'black medic',\n",
       " 'bristly oxtongue',\n",
       " 'broadleaf dock',\n",
       " 'broadleaf plantain',\n",
       " 'brome',\n",
       " 'buckhorn plantain',\n",
       " 'bull thistle',\n",
       " 'Carolina geranium',\n",
       " 'carpetweed',\n",
       " 'catchweed bedstraw',\n",
       " 'cheat grass',\n",
       " 'chickweed',\n",
       " 'common mallow',\n",
       " 'corn speedwell',\n",
       " 'Crabgrass',\n",
       " 'crowfoot grass',\n",
       " 'curly dock',\n",
       " 'dallisgrass',\n",
       " 'dandelion',\n",
       " 'eclipta',\n",
       " 'evening primrose',\n",
       " 'fall panicum',\n",
       " 'fiddleneck',\n",
       " 'field bindweed',\n",
       " 'fleabane',\n",
       " 'giant foxtail',\n",
       " 'goosegrass',\n",
       " 'green foxtail',\n",
       " 'groundsel',\n",
       " 'hairy bittercress',\n",
       " 'hairy galinsoga',\n",
       " 'henbit',\n",
       " 'honeyvine milkweed',\n",
       " 'jimsonweed',\n",
       " 'Johnsongrass',\n",
       " 'junglerice',\n",
       " 'kochia',\n",
       " 'ladysthumb',\n",
       " 'lambsquarters',\n",
       " 'lanceleaf groundcherry',\n",
       " 'lespedeza',\n",
       " 'lovegrass',\n",
       " 'marestail',\n",
       " 'mayweed',\n",
       " 'morning glory',\n",
       " 'mustard',\n",
       " 'nettleleaf goosefoot',\n",
       " 'orchardgrass',\n",
       " 'Pennsylvania smartweed',\n",
       " 'perennial ryegrass',\n",
       " 'pineappleweed',\n",
       " 'pokeweed',\n",
       " 'prickly lettuce',\n",
       " 'prickly sida',\n",
       " 'prostrate knotweed',\n",
       " 'prostrate spurge',\n",
       " 'puncturevine',\n",
       " 'purple cudweed',\n",
       " 'purslane',\n",
       " 'ragweed',\n",
       " 'rattail fescue',\n",
       " 'red sorrel',\n",
       " 'redroot pigweed',\n",
       " 'Russian thistle',\n",
       " 'scarlet pimpernel',\n",
       " 'sheep sorrel',\n",
       " \"shepherd's purse\",\n",
       " 'sibara',\n",
       " 'signalgrass',\n",
       " 'smooth crabgrass',\n",
       " 'smutgrass',\n",
       " 'southern crabgrass',\n",
       " 'southwestern cupgrass',\n",
       " 'sow thistle',\n",
       " 'spotted spurge',\n",
       " 'sprangletop',\n",
       " 'stinging nettle',\n",
       " 'stinkgrass',\n",
       " 'sunflower',\n",
       " 'sweet clover',\n",
       " 'swinecress',\n",
       " 'tansymustard',\n",
       " 'velvetleaf',\n",
       " 'Virginia pepperweed',\n",
       " 'white clover',\n",
       " 'wild cane',\n",
       " 'wild carrot',\n",
       " 'wild oat',\n",
       " 'wild radish',\n",
       " 'witchgrass',\n",
       " 'woodsorrel',\n",
       " 'yellow foxtail']"
      ]
     },
     "execution_count": 72,
     "metadata": {},
     "output_type": "execute_result"
    }
   ],
   "source": [
    "weeds"
   ]
  },
  {
   "cell_type": "code",
   "execution_count": 3,
   "metadata": {},
   "outputs": [],
   "source": [
    "def get_soup(url):\n",
    "    response = requests.get(url)\n",
    "    html = response.text\n",
    "    soup = BeautifulSoup(html, 'lxml')\n",
    "    return soup"
   ]
  },
  {
   "cell_type": "code",
   "execution_count": 4,
   "metadata": {},
   "outputs": [],
   "source": [
    "def get_photo(image_url, path):\n",
    "    image_soup = get_soup(image_url)\n",
    "    photo = image_soup.find(id = 'FullImage').attrs.get('src')\n",
    "    r = requests.get(photo)\n",
    "    file = open(path, 'wb')\n",
    "    file.write(r.content)\n",
    "    file.close()\n",
    "    return"
   ]
  },
  {
   "cell_type": "markdown",
   "metadata": {},
   "source": [
    "- Missouri Botanical Gardens includes a primary photo and sometimes includes additional photos.\n",
    "- For each plant, I entered the URL if the site included at least a primary photo."
   ]
  },
  {
   "cell_type": "code",
   "execution_count": 5,
   "metadata": {},
   "outputs": [],
   "source": [
    "def add_plant(plant_url, weed):\n",
    "    main_url = 'https://www.missouribotanicalgarden.org'\n",
    "    soup = get_soup(plant_url)\n",
    "    file_name = soup.find(id = 'dnn_srTitle_lblTitle').text.strip().lower().replace(' ', '_').replace('\\'', '') +'_mo'\n",
    "    \n",
    "    if weed:\n",
    "        plant_path = weed_path\n",
    "    else:\n",
    "        plant_path = perennial_path\n",
    "    \n",
    "    if soup.find(id = 'MainContentPlaceHolder_PrimaryImageLink'):\n",
    "        # Get primary photo\n",
    "        path = os.path.join(plant_path, file_name + '_0.jpg')\n",
    "        primary_image_url = main_url + soup.find(id = 'MainContentPlaceHolder_PrimaryImageLink').attrs.get('href')\n",
    "        get_photo(primary_image_url, path)\n",
    "        \n",
    "        # Check if additional photos exist\n",
    "        if soup.find(id = 'MainContentPlaceHolder_ImagesList'):\n",
    "            count = 1\n",
    "            photo_table = soup.find(id = 'MainContentPlaceHolder_ImagesList').find_all('tr')\n",
    "            \n",
    "            for each_row in photo_table:\n",
    "                if each_row.contents:\n",
    "                    photo_list = each_row.find_all('td')\n",
    "                    for each_photo in photo_list:\n",
    "                        if each_photo.contents:\n",
    "                            photo_url = main_url + each_photo.find('a').attrs.get('href')\n",
    "                            path = os.path.join(plant_path, file_name + '_' + str(count) + '.jpg')\n",
    "                            get_photo(photo_url, path)\n",
    "                            count += 1"
   ]
  },
  {
   "cell_type": "code",
   "execution_count": 6,
   "metadata": {},
   "outputs": [],
   "source": [
    "def enter_data(weed):\n",
    "    plant_url = input('Enter url:  ')\n",
    "    add_plant(plant_url, weed)\n",
    "    next_plant = input('Next Plant? (Y/N):  ')\n",
    "    while ((next_plant == 'Y') or (next_plant == 'y')):\n",
    "        plant_url = input('Enter garden.org url:  ')\n",
    "        add_plant(plant_url, weed)\n",
    "        next_plant = input('Next Plant? (Y/N):  ')\n",
    "    return"
   ]
  },
  {
   "cell_type": "code",
   "execution_count": null,
   "metadata": {},
   "outputs": [],
   "source": [
    "enter_data(False)"
   ]
  },
  {
   "cell_type": "code",
   "execution_count": null,
   "metadata": {},
   "outputs": [],
   "source": []
  }
 ],
 "metadata": {
  "kernelspec": {
   "display_name": "Python 3",
   "language": "python",
   "name": "python3"
  },
  "language_info": {
   "codemirror_mode": {
    "name": "ipython",
    "version": 3
   },
   "file_extension": ".py",
   "mimetype": "text/x-python",
   "name": "python",
   "nbconvert_exporter": "python",
   "pygments_lexer": "ipython3",
   "version": "3.8.5"
  }
 },
 "nbformat": 4,
 "nbformat_minor": 4
}
