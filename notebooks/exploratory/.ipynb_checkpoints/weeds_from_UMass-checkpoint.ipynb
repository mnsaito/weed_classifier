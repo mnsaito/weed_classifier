{
 "cells": [
  {
   "cell_type": "code",
   "execution_count": 4,
   "metadata": {},
   "outputs": [],
   "source": [
    "# standard imports\n",
    "import numpy as np\n",
    "import pandas as pd\n",
    "import seaborn as sns\n",
    "import matplotlib.pyplot as plt\n",
    "import os\n",
    "\n",
    "# webscrape\n",
    "import requests\n",
    "from bs4 import BeautifulSoup\n",
    "from time import sleep"
   ]
  },
  {
   "cell_type": "code",
   "execution_count": 5,
   "metadata": {},
   "outputs": [],
   "source": [
    "# Path to store data\n",
    "weed_path = os.path.join(os.pardir, os.pardir, 'data', 'weeds')"
   ]
  },
  {
   "cell_type": "code",
   "execution_count": 6,
   "metadata": {},
   "outputs": [],
   "source": [
    "def get_soup(url):\n",
    "    response = requests.get(url)\n",
    "    html = response.text\n",
    "    soup = BeautifulSoup(html, 'lxml')\n",
    "    return soup"
   ]
  },
  {
   "cell_type": "code",
   "execution_count": 31,
   "metadata": {},
   "outputs": [],
   "source": [
    "def get_photos(photobox, count):\n",
    "    photos = photobox.find('div', {'class' : 'field-items'}).find_all('a')\n",
    "    for i in range(len(photos)):\n",
    "        photo = photos[i].attrs.get('href')\n",
    "        path = os.path.join(weed_path, file_name + '_' + str(count) + '.jpg')\n",
    "        r = requests.get(photo)\n",
    "        if r.status_code == 200:\n",
    "            file = open(path, 'wb')\n",
    "            file.write(r.content)\n",
    "            file.close()\n",
    "        count += 1\n",
    "    sleep(1)\n",
    "    return count"
   ]
  },
  {
   "cell_type": "markdown",
   "metadata": {},
   "source": [
    "The University of Massachusetts Amherst has a Weed Herbarium sorted by common name, scientific name, and family name.  Because the list of weeds I obtained from Preen.com are the common names, I searched for the common name alphabetically, entered the url below, and pulled all photos of each weed.  Given the time limitations, I did not figure out how to programmatically search for these weeds, but found it more efficient to search them individually on http://extension.umass.edu/landscape/weed-herbarium/."
   ]
  },
  {
   "cell_type": "code",
   "execution_count": 176,
   "metadata": {},
   "outputs": [],
   "source": [
    "url = 'http://extension.umass.edu/landscape/weeds/medicago-lupulina'\n",
    "soup = get_soup(url)"
   ]
  },
  {
   "cell_type": "code",
   "execution_count": 177,
   "metadata": {},
   "outputs": [],
   "source": [
    "name_field = soup.find('div', {'class' : 'field field-name-field-common-name-root field-type-text field-label-inline clearfix'})\n",
    "file_name = name_field.find('b').text.strip().lower().replace(' ', '_') + '_UMass'\n",
    "count = 0\n",
    "\n",
    "# UMass includes different categories of photos.  Not all weeds includes each category of photos.\n",
    "\n",
    "# Scrape photos from \"Culms\"\n",
    "if soup.find('div', {'class' : 'field field-name-field-culm-images field-type-image field-label-hidden'}):\n",
    "    photobox = soup.find('div', {'class' : 'field field-name-field-culm-images field-type-image field-label-hidden'})\n",
    "    count = get_photos(photobox, count)\n",
    "\n",
    "# Scrape photos from \"Stems\"\n",
    "if soup.find('div', {'class' : 'field field-name-field-stem-images field-type-image field-label-hidden'}):\n",
    "    photobox = soup.find('div', {'class' : 'field field-name-field-stem-images field-type-image field-label-hidden'})\n",
    "    count = get_photos(photobox, count)\n",
    "\n",
    "# Scrape photos from \"Leaves\"\n",
    "if soup.find('div', {'class' : 'field field-name-field-leaves-images field-type-image field-label-hidden'}):\n",
    "    photobox = soup.find('div', {'class' : 'field field-name-field-leaves-images field-type-image field-label-hidden'})\n",
    "    count = get_photos(photobox, count)\n",
    "\n",
    "# Scrape photos from \"Flowers\"\n",
    "if soup.find('div', {'class' : 'field field-name-field-flowers-images field-type-image field-label-hidden'}):\n",
    "    photobox = soup.find('div', {'class' : 'field field-name-field-flowers-images field-type-image field-label-hidden'})\n",
    "    count = get_photos(photobox, count)\n",
    "\n",
    "# Scrape photos from \"Life Cycle\"\n",
    "if soup.find('div', {'class' : 'field field-name-field--life-cycle-images field-type-image field-label-hidden'}):\n",
    "    photobox = soup.find('div', {'class' : 'field field-name-field--life-cycle-images field-type-image field-label-hidden'})\n",
    "    count = get_photos(photobox, count)\n",
    "\n",
    "# Scrape photos from \"Seedheads\"\n",
    "if soup.find('div', {'class' : 'field field-name-field-seedheads-images field-type-image field-label-hidden'}):\n",
    "    photobox = soup.find('div', {'class' : 'field field-name-field-seedheads-images field-type-image field-label-hidden'})\n",
    "    count = get_photos(photobox, count)\n",
    "\n",
    "# Scrape photos from \"Seed Pods\"\n",
    "if soup.find('div', {'class' : 'field field-name-field-seedpods-images field-type-image field-label-hidden'}):\n",
    "    photobox = soup.find('div', {'class' : 'field field-name-field-seedpods-images field-type-image field-label-hidden'})\n",
    "    count = get_photos(photobox, count)\n",
    "\n",
    "# Scrape photos from \"Fruit\"\n",
    "if soup.find('div', {'class' : 'field field-name-field-fruit-images field-type-image field-label-hidden'}):\n",
    "    photobox = soup.find('div', {'class' : 'field field-name-field-fruit-images field-type-image field-label-hidden'})\n",
    "    count = get_photos(photobox, count)\n"
   ]
  },
  {
   "cell_type": "code",
   "execution_count": null,
   "metadata": {},
   "outputs": [],
   "source": []
  }
 ],
 "metadata": {
  "kernelspec": {
   "display_name": "Python 3",
   "language": "python",
   "name": "python3"
  },
  "language_info": {
   "codemirror_mode": {
    "name": "ipython",
    "version": 3
   },
   "file_extension": ".py",
   "mimetype": "text/x-python",
   "name": "python",
   "nbconvert_exporter": "python",
   "pygments_lexer": "ipython3",
   "version": "3.8.5"
  }
 },
 "nbformat": 4,
 "nbformat_minor": 4
}
