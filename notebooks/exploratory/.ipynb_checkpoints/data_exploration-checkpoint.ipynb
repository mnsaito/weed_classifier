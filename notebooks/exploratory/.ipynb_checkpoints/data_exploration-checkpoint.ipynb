{
 "cells": [
  {
   "cell_type": "code",
   "execution_count": 1,
   "metadata": {},
   "outputs": [],
   "source": [
    "# Standard Imports\n",
    "import numpy as np\n",
    "import pandas as pd\n",
    "import seaborn as sns\n",
    "import matplotlib.pyplot as plt\n",
    "import matplotlib.image as mpimg\n",
    "import random\n",
    "import os\n",
    "from PIL import Image, ImageStat\n",
    "\n",
    "# Modeling Imports\n",
    "from tensorflow.keras.preprocessing.image import ImageDataGenerator"
   ]
  },
  {
   "cell_type": "code",
   "execution_count": 2,
   "metadata": {},
   "outputs": [
    {
     "name": "stdout",
     "output_type": "stream",
     "text": [
      "Found 5799 images belonging to 2 classes.\n"
     ]
    }
   ],
   "source": [
    "data_path = os.path.join(os.pardir, os.pardir, 'data')\n",
    "\n",
    "data_generator = ImageDataGenerator(rescale = 1./255.) \\\n",
    "    .flow_from_directory(data_path, target_size = (256, 256), \n",
    "                         batch_size = 64, class_mode = 'binary', classes=['perennials', 'weeds'])\n"
   ]
  },
  {
   "cell_type": "code",
   "execution_count": 4,
   "metadata": {},
   "outputs": [],
   "source": [
    "perennial_path = os.path.join(data_path, 'perennials')\n",
    "weed_path = os.path.join(data_path, 'weeds')"
   ]
  },
  {
   "cell_type": "code",
   "execution_count": 5,
   "metadata": {},
   "outputs": [
    {
     "data": {
      "text/plain": [
       "2812"
      ]
     },
     "execution_count": 5,
     "metadata": {},
     "output_type": "execute_result"
    }
   ],
   "source": [
    "# Final\n",
    "len([name for name in os.listdir(perennial_path)])"
   ]
  },
  {
   "cell_type": "code",
   "execution_count": 6,
   "metadata": {},
   "outputs": [
    {
     "data": {
      "text/plain": [
       "2990"
      ]
     },
     "execution_count": 6,
     "metadata": {},
     "output_type": "execute_result"
    }
   ],
   "source": [
    "# Final\n",
    "len([name for name in os.listdir(weed_path)])"
   ]
  },
  {
   "cell_type": "code",
   "execution_count": null,
   "metadata": {},
   "outputs": [],
   "source": []
  },
  {
   "cell_type": "code",
   "execution_count": 3,
   "metadata": {},
   "outputs": [
    {
     "data": {
      "text/plain": [
       "{'perennials': 0, 'weeds': 1}"
      ]
     },
     "execution_count": 3,
     "metadata": {},
     "output_type": "execute_result"
    }
   ],
   "source": [
    "data_generator.class_indices"
   ]
  },
  {
   "cell_type": "code",
   "execution_count": 5,
   "metadata": {},
   "outputs": [],
   "source": [
    "def compare_plants():\n",
    "    perennial_file = random.choice(os.listdir(perennial_path))\n",
    "    perennial_img = mpimg.imread(os.path.join(perennial_path, perennial_file))\n",
    "    weed_file = random.choice(os.listdir(weed_path))\n",
    "    weed_img = mpimg.imread(os.path.join(weed_path, weed_file))\n",
    "\n",
    "    plt.figure(figsize = (20, 8))\n",
    "    ax = plt.subplot(1, 2, 1)\n",
    "    ax.set_title('Perennial', fontdict={'size': 18})\n",
    "    plt.imshow(perennial_img)\n",
    "    ax = plt.subplot(1, 2, 2)\n",
    "    ax.set_title('Weed', fontdict = {'size': 18})\n",
    "    plt.imshow(weed_img);\n",
    "    return"
   ]
  },
  {
   "cell_type": "code",
   "execution_count": null,
   "metadata": {},
   "outputs": [],
   "source": []
  }
 ],
 "metadata": {
  "kernelspec": {
   "display_name": "Python 3",
   "language": "python",
   "name": "python3"
  },
  "language_info": {
   "codemirror_mode": {
    "name": "ipython",
    "version": 3
   },
   "file_extension": ".py",
   "mimetype": "text/x-python",
   "name": "python",
   "nbconvert_exporter": "python",
   "pygments_lexer": "ipython3",
   "version": "3.8.5"
  }
 },
 "nbformat": 4,
 "nbformat_minor": 4
}
